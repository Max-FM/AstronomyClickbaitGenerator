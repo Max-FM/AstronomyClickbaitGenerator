{
 "cells": [
  {
   "cell_type": "code",
   "execution_count": 3,
   "metadata": {},
   "outputs": [],
   "source": [
    "from requests import get\n",
    "from bs4 import BeautifulSoup\n",
    "from time import sleep"
   ]
  },
  {
   "cell_type": "code",
   "execution_count": 1,
   "metadata": {},
   "outputs": [],
   "source": [
    "def scrape_title_and_url(n):\n",
    "    titles = []\n",
    "    urls = []\n",
    "    for i in range(1,n+1):\n",
    "        api_call = get(f'https://api.iflscience.com/more-stories/?count=12&page={i}&skip=54052%2C54051%2C54032%2C54048%2C54050%2C54044%2C54022%2C54027%2C54024%2C54013%2C54011%2C54009%2C53997%2C53990%2C53987%2C53981%2C53984%2C53977%2C53971%2C53968&category=34&from=1571931783').json()\n",
    "\n",
    "        articles = api_call['articles']\n",
    "\n",
    "        for i in range(len(articles)):\n",
    "            titles.append(articles[i]['title'])\n",
    "            urls.append('https://www.iflscience.com/space/' + articles[i]['slug'])\n",
    "            \n",
    "    return titles, urls\n",
    "\n",
    "# Breaks with large number of urls.\n",
    "def scrape_article_text(urls):    \n",
    "    bodyTextList = []\n",
    "    \n",
    "    for url in urls:\n",
    "        sleep(1e-2)\n",
    "        html = get(url).content\n",
    "        soup = BeautifulSoup(html)\n",
    "\n",
    "        paragraphs = soup.find_all('p')[:-4]\n",
    "\n",
    "        bodyText = ''\n",
    "        for paragraph in paragraphs:\n",
    "            bodyText += paragraph.text\n",
    "\n",
    "        bodyTextList.append(bodyText)\n",
    "        \n",
    "    return bodyTextList"
   ]
  },
  {
   "cell_type": "code",
   "execution_count": 8,
   "metadata": {},
   "outputs": [
    {
     "name": "stdout",
     "output_type": "stream",
     "text": [
      "['The Second Interstellar Comet Is Not That Different From Our Own', 'The Violent Emission Of A Black Hole Has Been Turned Into A Movie', 'Scientist Claims We Have Already Found Proof Of Life On Mars', 'Supermassive Black Holes Stop Dwarf Galaxies From Growing', 'Our Galaxy Kidnapped Some Of Its Satellite Galaxies From The Large Magellanic Cloud', 'Peculiar Chromosome Condition May Be Twice As Common As Previously Thought, DNA Study Suggests', 'The Milky Way May Be Gaining Weight By Stealing Gas From Its Neighbors', \"Ice Found On Moon's South Pole May Be Coming From Multiple Unknown Water Sources\", 'Newly Discovered Asteroid Is At Slight Risk Of Hitting Earth In 2084', 'India’s Chandrayaan-2 Delivers Highest Resolution Images Of The Moon Yet'] ['https://www.iflscience.com/space/the-second-interstellar-comet-is-not-that-different-from-our-own', 'https://www.iflscience.com/space/the-violent-emission-of-a-black-hole-has-been-turned-into-a-movie', 'https://www.iflscience.com/space/scientist-claims-we-have-already-found-proof-of-life-on-mars', 'https://www.iflscience.com/space/supermassive-black-holes-stop-dwarf-galaxies-from-growing', 'https://www.iflscience.com/space/our-galaxy-kidnapped-some-of-its-satellite-galaxies-from-the-large-magellanic-cloud', 'https://www.iflscience.com/space/peculiar-chromosome-condition-may-be-twice-as-common-as-previously-thought-dna-study-suggests', 'https://www.iflscience.com/space/the-milky-way-may-be-gaining-weight-by-stealing-gas-from-its-neighbors', 'https://www.iflscience.com/space/ice-found-on-moons-south-pole-may-be-coming-from-multiple-unknown-water-sources', 'https://www.iflscience.com/space/newly-discovered-asteroid-is-at-slight-risk-of-hitting-earth-in-2084', 'https://www.iflscience.com/space/indias-chandrayaan2-delivers-highest-resolution-images-of-the-moon-yet']\n"
     ]
    }
   ],
   "source": [
    "# Will recieve n * 12 of the most recent clickbait headlines from IFLS.\n",
    "n = 400\n",
    "\n",
    "titles, urls = scrape_title_and_url(n)\n",
    "\n",
    "print(titles[:10], urls[:10])"
   ]
  },
  {
   "cell_type": "code",
   "execution_count": 6,
   "metadata": {},
   "outputs": [
    {
     "name": "stdout",
     "output_type": "stream",
     "text": [
      "Two-colour composite image of comet 2I/Borisov captured by the Gemini North telescope on September 10, 2019. Gemini Observatory/NSF/AURAOn August 30, this year we learned of a second interstellar visitor passing through the Solar System, after the discovery of asteroid ‘Oumuamua last year. The new visitor, comet 21/Borisov, is named after its discoverer, amateur astronomer Gennady Borisov. While ‘Oumuamua's general properties appear unlike anything we have seen before, comet Borisov is unexpectedly familiar.As reported in Nature Astronomy, the interstellar body is similar in composition and size to comets from our own Solar System, suggesting that these objects likely form in the same way elsewhere in the universe. It appears to be dusty, with a red hue, and has a nucleus of about 1 kilometer (0.6 miles). It would be quite an unexceptional object if its origin didn’t lie beyond the edges of the Solar System.When 2I/Borisov was discovered it was over 400 million kilometers (250 million miles) from the Sun. Since then, it has got closer and closer. On October 26, it will cross the orbital plane of the Solar System with a 40-degree angle. This peculiar direction combined with the exceptional speed of 150,000 kilometers (93,000 miles) per hour were the first clues that this body was not from around here. The paper points out that without the orbital characteristics, based on the current observations it would look indistinguishable from Solar System comets.‘We immediately noticed the familiar coma and tail that were not seen around ‘Oumuamua’, said Michał Drahus, from the Jagiellonian University in Poland, in a statement. \"This is really cool because it means that our new visitor is one of these mythical and never-before-seen “real” interstellar comets.\"We should soon find out if there’s anything peculiar about this comet. It will reach its closest point to the Sun on December 8, when it will be roughly 300 million kilometers (190 million miles) away, and more detailed observations of the object are expected to deliver more information on its properties.“The comet is still emerging from the Sun’s morning glare and growing in brightness. It will be observable for several months, which makes us believe that the best is yet to come,” added co-author Wacław Waniak.The images of the comet, which show a yellowish body, have given astronomers plenty of insights. They were taken between September 10-13 with the William Herschel Telescope in Spain and Gemini North Telescope in Hawaii. They also discovered that currently dust is being ejected from the comet at a relatively low speed of 44 meters per second (98 miles per hour).The team has still got time booked on the Gemini North Telescope and they have also booked a large slot with the European Southern Observatory’s Very Large Telescope, in the hope of learning more about 2I/Borisov.“We can safely say that research on this body will be transformative for planetary astronomy and a milestone for astronomy in general,” lead author Piotr Guzik stated.\n"
     ]
    }
   ],
   "source": [
    "# Uses URLS pulled from API to scrape article text. \n",
    "#\n",
    "# Be warned API times out if too many requests are made \n",
    "# so consider truncating your URL list before running this cell.\n",
    "\n",
    "article_texts = scrape_article_text(urls)\n",
    "\n",
    "print(article_texts[0])"
   ]
  },
  {
   "cell_type": "code",
   "execution_count": null,
   "metadata": {},
   "outputs": [],
   "source": [
    "# Write titles and urls to text files. \n",
    "# If file already exists use 'a' option to append or delete the textfile and start again.\n",
    "\n",
    "with open('clickbaitTitles.txt', 'w+') as f:\n",
    "    for item in titles:\n",
    "        f.write(\"%s\\n\" % item)\n",
    "        \n",
    "with open('clickbaitURLs.txt', 'w+') as f:\n",
    "    for item in urls:\n",
    "        f.write(\"%s\\n\" % item)"
   ]
  },
  {
   "cell_type": "code",
   "execution_count": null,
   "metadata": {},
   "outputs": [],
   "source": [
    "#Same as above, but with article text.\n",
    "\n",
    "with open('clickbaitArticles.txt', 'w+') as f:\n",
    "    for item in bodyTextList:\n",
    "        f.write(\"%s\\n\" % item)"
   ]
  }
 ],
 "metadata": {
  "kernelspec": {
   "display_name": "Python 3",
   "language": "python",
   "name": "python3"
  },
  "language_info": {
   "codemirror_mode": {
    "name": "ipython",
    "version": 3
   },
   "file_extension": ".py",
   "mimetype": "text/x-python",
   "name": "python",
   "nbconvert_exporter": "python",
   "pygments_lexer": "ipython3",
   "version": "3.7.4"
  }
 },
 "nbformat": 4,
 "nbformat_minor": 4
}
