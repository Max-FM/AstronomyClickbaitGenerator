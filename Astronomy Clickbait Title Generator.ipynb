{
 "cells": [
  {
   "cell_type": "markdown",
   "metadata": {},
   "source": [
    "Astronomy Clickbait Title Generator"
   ]
  },
  {
   "cell_type": "code",
   "execution_count": 1,
   "metadata": {},
   "outputs": [],
   "source": [
    "import markovify"
   ]
  },
  {
   "cell_type": "code",
   "execution_count": 2,
   "metadata": {},
   "outputs": [],
   "source": [
    "class clickbaitTitle(object):\n",
    "    def __init__(self, pathToTextFile):\n",
    "        with open(pathToTextFile) as f:\n",
    "          abs_text = f.read()\n",
    "        self.abs_model = markovify.Text(abs_text)\n",
    "\n",
    "    def generate(self, characters):\n",
    "          return self.abs_model.make_short_sentence(characters)     "
   ]
  },
  {
   "cell_type": "code",
   "execution_count": 3,
   "metadata": {},
   "outputs": [],
   "source": [
    "#Initialises the clickbait title generator - breaks if used more than once.\n",
    "path = 'clickbaitTitles.txt'\n",
    "clickbaitTitleGenerator = clickbaitTitle(path)"
   ]
  },
  {
   "cell_type": "code",
   "execution_count": 6,
   "metadata": {},
   "outputs": [
    {
     "name": "stdout",
     "output_type": "stream",
     "text": [
      "Eying Exomoons In The Atmosphere?\n"
     ]
    }
   ],
   "source": [
    "# Feel free to go full ham on this cell. Make all the funny.\n",
    "characters = 100\n",
    "clickbaitTitle = clickbaitTitleGenerator.generate(characters)\n",
    "\n",
    "print(clickbaitTitle)"
   ]
  }
 ],
 "metadata": {
  "kernelspec": {
   "display_name": "Python 3",
   "language": "python",
   "name": "python3"
  },
  "language_info": {
   "codemirror_mode": {
    "name": "ipython",
    "version": 3
   },
   "file_extension": ".py",
   "mimetype": "text/x-python",
   "name": "python",
   "nbconvert_exporter": "python",
   "pygments_lexer": "ipython3",
   "version": "3.7.4"
  }
 },
 "nbformat": 4,
 "nbformat_minor": 4
}
