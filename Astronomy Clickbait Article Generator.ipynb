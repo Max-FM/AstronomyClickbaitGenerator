{
 "cells": [
  {
   "cell_type": "markdown",
   "metadata": {},
   "source": [
    "Astronomy Clickbait Article Generator"
   ]
  },
  {
   "cell_type": "code",
   "execution_count": 2,
   "metadata": {},
   "outputs": [],
   "source": [
    "import markovify"
   ]
  },
  {
   "cell_type": "code",
   "execution_count": 3,
   "metadata": {},
   "outputs": [],
   "source": [
    "# Needs a lot of work - spits out total random nonsense.\n",
    "class clickbaitArticle(object):\n",
    "    def __init__(self, pathToTextFile):        \n",
    "        with open(pathToTextFile) as f:\n",
    "          abs_text = f.read()\n",
    "        self.abs_model = markovify.Text(abs_text)\n",
    "\n",
    "    def generate(self, no_of_sentences):\n",
    "        text = ''\n",
    "        for i in range(no_of_sentences):\n",
    "          text += self.abs_model.make_sentence()\n",
    "          text += ' '\n",
    "        return text"
   ]
  },
  {
   "cell_type": "code",
   "execution_count": 4,
   "metadata": {},
   "outputs": [],
   "source": [
    "#Initialises the clickbait title generator - breaks if used more than once.\n",
    "path = 'clickbaitArticles.txt'\n",
    "clickbaitArticleGenerator = clickbaitArticle(path)"
   ]
  },
  {
   "cell_type": "code",
   "execution_count": 25,
   "metadata": {},
   "outputs": [
    {
     "name": "stdout",
     "output_type": "stream",
     "text": [
      "Mars's seasons last twice as long as their counterparts on Earth but it won’t be forever. \n"
     ]
    }
   ],
   "source": [
    "# Individual sentences make the 'most sense'... o_0\n",
    "\n",
    "sentences = 1\n",
    "clickbaitArticle = clickbaitArticleGenerator.generate(sentences)\n",
    "\n",
    "print(clickbaitArticle)"
   ]
  }
 ],
 "metadata": {
  "kernelspec": {
   "display_name": "Python 3",
   "language": "python",
   "name": "python3"
  },
  "language_info": {
   "codemirror_mode": {
    "name": "ipython",
    "version": 3
   },
   "file_extension": ".py",
   "mimetype": "text/x-python",
   "name": "python",
   "nbconvert_exporter": "python",
   "pygments_lexer": "ipython3",
   "version": "3.7.4"
  }
 },
 "nbformat": 4,
 "nbformat_minor": 4
}
